{
 "cells": [
  {
   "cell_type": "code",
   "execution_count": 38,
   "metadata": {
    "collapsed": false
   },
   "outputs": [
    {
     "data": {
      "text/html": [
       "<style>.container { width:90% !important; }</style>"
      ],
      "text/plain": [
       "<IPython.core.display.HTML object>"
      ]
     },
     "metadata": {},
     "output_type": "display_data"
    }
   ],
   "source": [
    "import pandas as pd\n",
    "import numpy as np\n",
    "\n",
    "from IPython.core.display import display, HTML\n",
    "display(HTML(\"<style>.container { width:90% !important; }</style>\"))"
   ]
  },
  {
   "cell_type": "markdown",
   "metadata": {},
   "source": [
    "# Format data to get a uniform style"
   ]
  },
  {
   "cell_type": "markdown",
   "metadata": {},
   "source": [
    "# Data from https://everytownresearch.org/school-shootings/"
   ]
  },
  {
   "cell_type": "code",
   "execution_count": 66,
   "metadata": {
    "collapsed": false,
    "scrolled": true
   },
   "outputs": [
    {
     "data": {
      "text/html": [
       "<div>\n",
       "<table border=\"1\" class=\"dataframe\">\n",
       "  <thead>\n",
       "    <tr style=\"text-align: right;\">\n",
       "      <th></th>\n",
       "      <th>date</th>\n",
       "      <th>state</th>\n",
       "      <th>school</th>\n",
       "      <th>type_school</th>\n",
       "      <th>death</th>\n",
       "      <th>suicide</th>\n",
       "      <th>number_victims</th>\n",
       "    </tr>\n",
       "  </thead>\n",
       "  <tbody>\n",
       "    <tr>\n",
       "      <th>0</th>\n",
       "      <td>2013-01-08</td>\n",
       "      <td>FL</td>\n",
       "      <td>Apostolic Revival Center Christian School</td>\n",
       "      <td>K-12</td>\n",
       "      <td>1</td>\n",
       "      <td>0</td>\n",
       "      <td>1</td>\n",
       "    </tr>\n",
       "    <tr>\n",
       "      <th>1</th>\n",
       "      <td>2013-01-10</td>\n",
       "      <td>CA</td>\n",
       "      <td>Taft Union High School</td>\n",
       "      <td>K-12</td>\n",
       "      <td>0</td>\n",
       "      <td>0</td>\n",
       "      <td>0</td>\n",
       "    </tr>\n",
       "  </tbody>\n",
       "</table>\n",
       "</div>"
      ],
      "text/plain": [
       "        date state                                     school type_school  \\\n",
       "0 2013-01-08    FL  Apostolic Revival Center Christian School        K-12   \n",
       "1 2013-01-10    CA                     Taft Union High School        K-12   \n",
       "\n",
       "   death  suicide  number_victims  \n",
       "0      1        0               1  \n",
       "1      0        0               0  "
      ]
     },
     "execution_count": 66,
     "metadata": {},
     "output_type": "execute_result"
    }
   ],
   "source": [
    "everytown = pd.read_csv(\"./data/everytown.csv\",sep=\";\",header=None, parse_dates=[1])\n",
    "everytown.columns = [\"index\",\"date\",\"date_repeaded\",\"state\",\"city\",\"school\",\"type_school\",\"gun_fired\",\"injured\",\"death\",\"attempted_suicide\",\"suicide\",\"number_victims\"]\n",
    "everytown = everytown.loc[:,[\"date\",\"state\",\"school\",\"type_school\",\"death\",\"suicide\",\"number_victims\"]]\n",
    "everytown.to_csv(\"./data/everytown_formatted\",index=None,sep=\"\\t\")\n",
    "everytown.head(2)\n"
   ]
  },
  {
   "cell_type": "markdown",
   "metadata": {},
   "source": [
    "# Data from Jim&Alyssa: https://www.ncbi.nlm.nih.gov/pmc/articles/PMC5314897/"
   ]
  },
  {
   "cell_type": "code",
   "execution_count": 55,
   "metadata": {
    "collapsed": false
   },
   "outputs": [],
   "source": [
    "#NAN value is: stewart country schools (a K-12 school)\n",
    "d_type2school = {\"High\": \"K-12\", \"Middle\": \"K-12\", \"college\": \"College\", \"Elementary\": \"K-12\",np.NaN:\"K-12\"}"
   ]
  },
  {
   "cell_type": "code",
   "execution_count": 68,
   "metadata": {
    "collapsed": false
   },
   "outputs": [
    {
     "data": {
      "text/html": [
       "<div>\n",
       "<table border=\"1\" class=\"dataframe\">\n",
       "  <thead>\n",
       "    <tr style=\"text-align: right;\">\n",
       "      <th></th>\n",
       "      <th>date</th>\n",
       "      <th>state</th>\n",
       "      <th>school</th>\n",
       "      <th>type_school</th>\n",
       "      <th>death</th>\n",
       "      <th>suicide</th>\n",
       "      <th>number_victims</th>\n",
       "    </tr>\n",
       "  </thead>\n",
       "  <tbody>\n",
       "    <tr>\n",
       "      <th>0</th>\n",
       "      <td>1990-08-27</td>\n",
       "      <td>NV</td>\n",
       "      <td>Eldorado High</td>\n",
       "      <td>K-12</td>\n",
       "      <td>1</td>\n",
       "      <td>0.0</td>\n",
       "      <td>1</td>\n",
       "    </tr>\n",
       "    <tr>\n",
       "      <th>1</th>\n",
       "      <td>1991-10-09</td>\n",
       "      <td>NY</td>\n",
       "      <td>James Monroe</td>\n",
       "      <td>K-12</td>\n",
       "      <td>1</td>\n",
       "      <td>0.0</td>\n",
       "      <td>1</td>\n",
       "    </tr>\n",
       "  </tbody>\n",
       "</table>\n",
       "</div>"
      ],
      "text/plain": [
       "        date state         school type_school  death  suicide  number_victims\n",
       "0 1990-08-27    NV  Eldorado High        K-12      1      0.0               1\n",
       "1 1991-10-09    NY   James Monroe        K-12      1      0.0               1"
      ]
     },
     "execution_count": 68,
     "metadata": {},
     "output_type": "execute_result"
    }
   ],
   "source": [
    "alyssa = pd.read_csv(\"./data/ShootMiami2.csv\",sep=\";\",header=None,parse_dates=[0])\n",
    "alyssa.columns = [\"date\",\"_1\",\"_2\",\"_3\",\"year\",\"type_shooing\",\"number_victims\",\"school\",\"type_school\",\"city\",\"state\",\"urbanity\",\n",
    "                 \"relationship_with_attacker\",\"gender\",\"age\",\"suicide\",\"motives\",\"population_school\",\"lat\",\"lon\",\"_4\",\"_5\",\"_6\",\"_7\",\"_8\"]\n",
    "alyssa = alyssa.loc[:,[\"date\",\"state\",\"school\",\"type_school\",\"death\",\"suicide\",\"number_victims\"]]\n",
    "alyssa[\"death\"] = (alyssa[\"number_victims\"]>0).astype(int)\n",
    "#alyssa[\"suicide\"] = alyssa[\"suicide\"].astype(int) \n",
    "alyssa[\"type_school\"] = alyssa[\"type_school\"].replace(d_type2school)\n",
    "alyssa.to_csv(\"./data/alyssa_formatted\",index=None,sep=\"\\t\")\n",
    "alyssa.head(2)"
   ]
  },
  {
   "cell_type": "markdown",
   "metadata": {},
   "source": [
    "# Data from USA Today on mass shootings (http://www.gannett-cdn.com/GDContent/mass-killings/index.html)"
   ]
  },
  {
   "cell_type": "code",
   "execution_count": 69,
   "metadata": {
    "collapsed": false
   },
   "outputs": [
    {
     "data": {
      "text/html": [
       "<div>\n",
       "<table border=\"1\" class=\"dataframe\">\n",
       "  <thead>\n",
       "    <tr style=\"text-align: right;\">\n",
       "      <th></th>\n",
       "      <th>date</th>\n",
       "      <th>city</th>\n",
       "      <th>state</th>\n",
       "      <th>type_attack</th>\n",
       "      <th>motives</th>\n",
       "      <th>number_victims</th>\n",
       "    </tr>\n",
       "  </thead>\n",
       "  <tbody>\n",
       "    <tr>\n",
       "      <th>1</th>\n",
       "      <td>2006-01-30</td>\n",
       "      <td>Goleta</td>\n",
       "      <td>Calif.</td>\n",
       "      <td>Shooting</td>\n",
       "      <td>Public Killing</td>\n",
       "      <td>7</td>\n",
       "    </tr>\n",
       "    <tr>\n",
       "      <th>2</th>\n",
       "      <td>2006-02-21</td>\n",
       "      <td>Mesa</td>\n",
       "      <td>Ariz.</td>\n",
       "      <td>Shooting</td>\n",
       "      <td>Other</td>\n",
       "      <td>5</td>\n",
       "    </tr>\n",
       "  </tbody>\n",
       "</table>\n",
       "</div>"
      ],
      "text/plain": [
       "        date    city   state type_attack         motives  number_victims\n",
       "1 2006-01-30  Goleta  Calif.    Shooting  Public Killing               7\n",
       "2 2006-02-21    Mesa   Ariz.    Shooting           Other               5"
      ]
     },
     "execution_count": 69,
     "metadata": {},
     "output_type": "execute_result"
    }
   ],
   "source": [
    "usatoday = pd.read_csv(\"./data/USAToday.csv\",sep=\"\\t\",header=None,parse_dates=[0])\n",
    "usatoday.columns = [\"date\",\"city\",\"state\",\"type_attack\",\"motives\",\"number_victims\"]\n",
    "usatoday = usatoday.loc[usatoday[\"type_attack\"].str.contains(\"hooting\")]\n",
    "usatoday.to_csv(\"./data/usatoday_formatted\",index=None,sep=\"\\t\")\n",
    "usatoday.head(2)"
   ]
  }
 ],
 "metadata": {
  "anaconda-cloud": {},
  "kernelspec": {
   "display_name": "Python [conda root]",
   "language": "python",
   "name": "conda-root-py"
  },
  "language_info": {
   "codemirror_mode": {
    "name": "ipython",
    "version": 3
   },
   "file_extension": ".py",
   "mimetype": "text/x-python",
   "name": "python",
   "nbconvert_exporter": "python",
   "pygments_lexer": "ipython3",
   "version": "3.5.2"
  }
 },
 "nbformat": 4,
 "nbformat_minor": 1
}
