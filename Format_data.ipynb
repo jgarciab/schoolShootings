{
 "cells": [
  {
   "cell_type": "code",
   "execution_count": 1,
   "metadata": {
    "collapsed": false
   },
   "outputs": [
    {
     "data": {
      "text/html": [
       "<style>.container { width:90% !important; }</style>"
      ],
      "text/plain": [
       "<IPython.core.display.HTML object>"
      ]
     },
     "metadata": {},
     "output_type": "display_data"
    }
   ],
   "source": [
    "import pandas as pd\n",
    "import numpy as np\n",
    "\n",
    "from IPython.core.display import display, HTML\n",
    "display(HTML(\"<style>.container { width:90% !important; }</style>\"))"
   ]
  },
  {
   "cell_type": "markdown",
   "metadata": {},
   "source": [
    "# Format data to get a uniform style"
   ]
  },
  {
   "cell_type": "markdown",
   "metadata": {},
   "source": [
    "# Data from https://everytownresearch.org/school-shootings/"
   ]
  },
  {
   "cell_type": "code",
   "execution_count": 2,
   "metadata": {
    "collapsed": false,
    "scrolled": true
   },
   "outputs": [
    {
     "data": {
      "text/html": [
       "<div>\n",
       "<style>\n",
       "    .dataframe thead tr:only-child th {\n",
       "        text-align: right;\n",
       "    }\n",
       "\n",
       "    .dataframe thead th {\n",
       "        text-align: left;\n",
       "    }\n",
       "\n",
       "    .dataframe tbody tr th {\n",
       "        vertical-align: top;\n",
       "    }\n",
       "</style>\n",
       "<table border=\"1\" class=\"dataframe\">\n",
       "  <thead>\n",
       "    <tr style=\"text-align: right;\">\n",
       "      <th></th>\n",
       "      <th>date</th>\n",
       "      <th>state</th>\n",
       "      <th>school</th>\n",
       "      <th>type_school</th>\n",
       "      <th>death</th>\n",
       "      <th>suicide</th>\n",
       "      <th>number_victims</th>\n",
       "    </tr>\n",
       "  </thead>\n",
       "  <tbody>\n",
       "    <tr>\n",
       "      <th>0</th>\n",
       "      <td>2013-01-08</td>\n",
       "      <td>FL</td>\n",
       "      <td>Apostolic Revival Center Christian School</td>\n",
       "      <td>K-12</td>\n",
       "      <td>1</td>\n",
       "      <td>0</td>\n",
       "      <td>1</td>\n",
       "    </tr>\n",
       "    <tr>\n",
       "      <th>1</th>\n",
       "      <td>2013-01-10</td>\n",
       "      <td>CA</td>\n",
       "      <td>Taft Union High School</td>\n",
       "      <td>K-12</td>\n",
       "      <td>0</td>\n",
       "      <td>0</td>\n",
       "      <td>0</td>\n",
       "    </tr>\n",
       "  </tbody>\n",
       "</table>\n",
       "</div>"
      ],
      "text/plain": [
       "        date state                                     school type_school  \\\n",
       "0 2013-01-08    FL  Apostolic Revival Center Christian School        K-12   \n",
       "1 2013-01-10    CA                     Taft Union High School        K-12   \n",
       "\n",
       "   death  suicide  number_victims  \n",
       "0      1        0               1  \n",
       "1      0        0               0  "
      ]
     },
     "execution_count": 2,
     "metadata": {},
     "output_type": "execute_result"
    }
   ],
   "source": [
    "everytown = pd.read_csv(\"./data/everytown.csv\",sep=\";\",header=None, parse_dates=[1])\n",
    "everytown.columns = [\"index\",\"date\",\"date_repeaded\",\"state\",\"city\",\"school\",\"type_school\",\"gun_fired\",\"injured\",\"death\",\"attempted_suicide\",\"suicide\",\"number_victims\"]\n",
    "everytown = everytown.loc[:,[\"date\",\"state\",\"school\",\"type_school\",\"death\",\"suicide\",\"number_victims\"]]\n",
    "everytown.to_csv(\"./data/everytown_formatted.tsv\",index=None,sep=\"\\t\")\n",
    "everytown.head(2)\n"
   ]
  },
  {
   "cell_type": "code",
   "execution_count": 3,
   "metadata": {
    "collapsed": false
   },
   "outputs": [
    {
     "data": {
      "text/html": [
       "<div>\n",
       "<style>\n",
       "    .dataframe thead tr:only-child th {\n",
       "        text-align: right;\n",
       "    }\n",
       "\n",
       "    .dataframe thead th {\n",
       "        text-align: left;\n",
       "    }\n",
       "\n",
       "    .dataframe tbody tr th {\n",
       "        vertical-align: top;\n",
       "    }\n",
       "</style>\n",
       "<table border=\"1\" class=\"dataframe\">\n",
       "  <thead>\n",
       "    <tr style=\"text-align: right;\">\n",
       "      <th></th>\n",
       "      <th>date</th>\n",
       "      <th>state</th>\n",
       "      <th>school</th>\n",
       "      <th>type_school</th>\n",
       "      <th>death</th>\n",
       "      <th>suicide</th>\n",
       "      <th>number_victims</th>\n",
       "      <th>lat</th>\n",
       "      <th>lon</th>\n",
       "    </tr>\n",
       "  </thead>\n",
       "  <tbody>\n",
       "    <tr>\n",
       "      <th>0</th>\n",
       "      <td>2018-02-14</td>\n",
       "      <td>FL</td>\n",
       "      <td>Marjory Stoneman Douglas High School</td>\n",
       "      <td>K-12</td>\n",
       "      <td>NaN</td>\n",
       "      <td>NaN</td>\n",
       "      <td>NaN</td>\n",
       "      <td>26.304503</td>\n",
       "      <td>-80.269457</td>\n",
       "    </tr>\n",
       "    <tr>\n",
       "      <th>1</th>\n",
       "      <td>2018-02-08</td>\n",
       "      <td>NY</td>\n",
       "      <td>The Metropolitan High School</td>\n",
       "      <td>K-12</td>\n",
       "      <td>NaN</td>\n",
       "      <td>NaN</td>\n",
       "      <td>NaN</td>\n",
       "      <td>40.827733</td>\n",
       "      <td>-73.897018</td>\n",
       "    </tr>\n",
       "  </tbody>\n",
       "</table>\n",
       "</div>"
      ],
      "text/plain": [
       "        date state                                 school type_school  death  \\\n",
       "0 2018-02-14    FL  Marjory Stoneman Douglas High School        K-12     NaN   \n",
       "1 2018-02-08    NY          The Metropolitan High School        K-12     NaN   \n",
       "\n",
       "   suicide  number_victims        lat        lon  \n",
       "0      NaN             NaN  26.304503 -80.269457  \n",
       "1      NaN             NaN  40.827733 -73.897018  "
      ]
     },
     "execution_count": 3,
     "metadata": {},
     "output_type": "execute_result"
    }
   ],
   "source": [
    "everytown_u = pd.read_csv(\"./data/everytown_updated.csv\",sep=\";\",header=0, parse_dates=[\"Date\"])\n",
    "\n",
    "everytown_u.columns = [\"date\",\"city\",\"school\",\"state\",\"type_school\",\"category\",\"attack\",\"lat\",\"lon\"]\n",
    "everytown_u[\"death\"] = np.NaN\n",
    "everytown_u[\"suicide\"] = np.NaN\n",
    "everytown_u[\"number_victims\"] = np.NaN\n",
    "everytown_u = everytown_u.loc[:,[\"date\",\"state\",\"school\",\"type_school\",\"death\",\"suicide\",\"number_victims\",\"lat\",\"lon\"]]\n",
    "everytown_u.to_csv(\"./data/everytown_u_formatted.tsv\",index=None,sep=\"\\t\")\n",
    "everytown_u.head(2)\n"
   ]
  },
  {
   "cell_type": "code",
   "execution_count": 13,
   "metadata": {
    "collapsed": false
   },
   "outputs": [
    {
     "data": {
      "text/html": [
       "<div>\n",
       "<style>\n",
       "    .dataframe thead tr:only-child th {\n",
       "        text-align: right;\n",
       "    }\n",
       "\n",
       "    .dataframe thead th {\n",
       "        text-align: left;\n",
       "    }\n",
       "\n",
       "    .dataframe tbody tr th {\n",
       "        vertical-align: top;\n",
       "    }\n",
       "</style>\n",
       "<table border=\"1\" class=\"dataframe\">\n",
       "  <thead>\n",
       "    <tr style=\"text-align: right;\">\n",
       "      <th></th>\n",
       "      <th>lat</th>\n",
       "      <th>lon</th>\n",
       "      <th>number_victims</th>\n",
       "      <th>date</th>\n",
       "    </tr>\n",
       "  </thead>\n",
       "  <tbody>\n",
       "    <tr>\n",
       "      <th>289</th>\n",
       "      <td>26.640191</td>\n",
       "      <td>-81.834505</td>\n",
       "      <td>1</td>\n",
       "      <td>0.0</td>\n",
       "    </tr>\n",
       "    <tr>\n",
       "      <th>288</th>\n",
       "      <td>35.146303</td>\n",
       "      <td>-119.460509</td>\n",
       "      <td>1</td>\n",
       "      <td>2.0</td>\n",
       "    </tr>\n",
       "  </tbody>\n",
       "</table>\n",
       "</div>"
      ],
      "text/plain": [
       "           lat         lon  number_victims  date\n",
       "289  26.640191  -81.834505               1   0.0\n",
       "288  35.146303 -119.460509               1   2.0"
      ]
     },
     "execution_count": 13,
     "metadata": {},
     "output_type": "execute_result"
    }
   ],
   "source": [
    "#For self-excitation\n",
    "everytown_u_se = everytown_u[[\"lat\",\"lon\",\"number_victims\",\"date\"]]\n",
    "everytown_u_se = everytown_u_se.sort_values(by=\"date\")\n",
    "everytown_u_se[\"number_victims\"] = 1\n",
    "everytown_u_se[\"date\"] = everytown_u_se[\"date\"].diff().dt.days\n",
    "everytown_u_se[\"date\"] = np.cumsum(everytown_u_se[\"date\"].replace(np.NaN,0))\n",
    "everytown_u_se.to_csv(\"./data/everytown_u_self_excitation.tsv\",sep=\" \",index=None,header=None)\n",
    "everytown_u_se.head(2)"
   ]
  },
  {
   "cell_type": "markdown",
   "metadata": {},
   "source": [
    "# Data from Jim&Alyssa: https://www.ncbi.nlm.nih.gov/pmc/articles/PMC5314897/"
   ]
  },
  {
   "cell_type": "code",
   "execution_count": 18,
   "metadata": {
    "collapsed": false
   },
   "outputs": [],
   "source": [
    "#NAN value is: stewart country schools (a K-12 school)\n",
    "d_type2school = {\"High\": \"K-12\", \"Middle\": \"K-12\", \"college\": \"College\", \"Elementary\": \"K-12\",np.NaN:\"K-12\"}"
   ]
  },
  {
   "cell_type": "code",
   "execution_count": 19,
   "metadata": {
    "collapsed": false
   },
   "outputs": [
    {
     "data": {
      "text/html": [
       "<div>\n",
       "<style>\n",
       "    .dataframe thead tr:only-child th {\n",
       "        text-align: right;\n",
       "    }\n",
       "\n",
       "    .dataframe thead th {\n",
       "        text-align: left;\n",
       "    }\n",
       "\n",
       "    .dataframe tbody tr th {\n",
       "        vertical-align: top;\n",
       "    }\n",
       "</style>\n",
       "<table border=\"1\" class=\"dataframe\">\n",
       "  <thead>\n",
       "    <tr style=\"text-align: right;\">\n",
       "      <th></th>\n",
       "      <th>date</th>\n",
       "      <th>state</th>\n",
       "      <th>school</th>\n",
       "      <th>type_school</th>\n",
       "      <th>death</th>\n",
       "      <th>suicide</th>\n",
       "      <th>number_victims</th>\n",
       "    </tr>\n",
       "  </thead>\n",
       "  <tbody>\n",
       "    <tr>\n",
       "      <th>0</th>\n",
       "      <td>1990-08-27</td>\n",
       "      <td>NV</td>\n",
       "      <td>Eldorado High</td>\n",
       "      <td>K-12</td>\n",
       "      <td>1</td>\n",
       "      <td>0.0</td>\n",
       "      <td>1</td>\n",
       "    </tr>\n",
       "    <tr>\n",
       "      <th>1</th>\n",
       "      <td>1991-10-09</td>\n",
       "      <td>NY</td>\n",
       "      <td>James Monroe</td>\n",
       "      <td>K-12</td>\n",
       "      <td>1</td>\n",
       "      <td>0.0</td>\n",
       "      <td>1</td>\n",
       "    </tr>\n",
       "  </tbody>\n",
       "</table>\n",
       "</div>"
      ],
      "text/plain": [
       "        date state         school type_school  death  suicide  number_victims\n",
       "0 1990-08-27    NV  Eldorado High        K-12      1      0.0               1\n",
       "1 1991-10-09    NY   James Monroe        K-12      1      0.0               1"
      ]
     },
     "execution_count": 19,
     "metadata": {},
     "output_type": "execute_result"
    }
   ],
   "source": [
    "alyssa = pd.read_csv(\"./data/ShootMiami2.csv\",sep=\";\",header=None,parse_dates=[0])\n",
    "alyssa.columns = [\"date\",\"_1\",\"_2\",\"_3\",\"year\",\"type_shooing\",\"number_victims\",\"school\",\"type_school\",\"city\",\"state\",\"urbanity\",\n",
    "                 \"relationship_with_attacker\",\"gender\",\"age\",\"suicide\",\"motives\",\"population_school\",\"lat\",\"lon\",\"_4\",\"_5\",\"_6\",\"_7\",\"_8\"]\n",
    "alyssa = alyssa.loc[:,[\"date\",\"state\",\"school\",\"type_school\",\"death\",\"suicide\",\"number_victims\"]]\n",
    "alyssa[\"death\"] = (alyssa[\"number_victims\"]>0).astype(int)\n",
    "#alyssa[\"suicide\"] = alyssa[\"suicide\"].astype(int) \n",
    "alyssa[\"type_school\"] = alyssa[\"type_school\"].replace(d_type2school)\n",
    "alyssa.to_csv(\"./data/alyssa_formatted.tsv\",index=None,sep=\"\\t\")\n",
    "alyssa.head(2)"
   ]
  },
  {
   "cell_type": "code",
   "execution_count": 20,
   "metadata": {
    "collapsed": false
   },
   "outputs": [
    {
     "data": {
      "text/html": [
       "<div>\n",
       "<style>\n",
       "    .dataframe thead tr:only-child th {\n",
       "        text-align: right;\n",
       "    }\n",
       "\n",
       "    .dataframe thead th {\n",
       "        text-align: left;\n",
       "    }\n",
       "\n",
       "    .dataframe tbody tr th {\n",
       "        vertical-align: top;\n",
       "    }\n",
       "</style>\n",
       "<table border=\"1\" class=\"dataframe\">\n",
       "  <thead>\n",
       "    <tr style=\"text-align: right;\">\n",
       "      <th></th>\n",
       "      <th>date</th>\n",
       "      <th>state</th>\n",
       "      <th>school</th>\n",
       "      <th>type_school</th>\n",
       "      <th>death</th>\n",
       "      <th>suicide</th>\n",
       "      <th>number_victims</th>\n",
       "      <th>lat</th>\n",
       "      <th>lon</th>\n",
       "    </tr>\n",
       "  </thead>\n",
       "  <tbody>\n",
       "    <tr>\n",
       "      <th>0</th>\n",
       "      <td>1990-08-27</td>\n",
       "      <td>NV</td>\n",
       "      <td>Eldorado High</td>\n",
       "      <td>K-12</td>\n",
       "      <td>1</td>\n",
       "      <td>0.0</td>\n",
       "      <td>1</td>\n",
       "      <td>38.732681</td>\n",
       "      <td>-120.811880</td>\n",
       "    </tr>\n",
       "    <tr>\n",
       "      <th>1</th>\n",
       "      <td>1991-10-09</td>\n",
       "      <td>NY</td>\n",
       "      <td>James Monroe</td>\n",
       "      <td>K-12</td>\n",
       "      <td>1</td>\n",
       "      <td>0.0</td>\n",
       "      <td>1</td>\n",
       "      <td>43.146905</td>\n",
       "      <td>-77.598189</td>\n",
       "    </tr>\n",
       "  </tbody>\n",
       "</table>\n",
       "</div>"
      ],
      "text/plain": [
       "        date state         school type_school  death  suicide  number_victims  \\\n",
       "0 1990-08-27    NV  Eldorado High        K-12      1      0.0               1   \n",
       "1 1991-10-09    NY   James Monroe        K-12      1      0.0               1   \n",
       "\n",
       "         lat         lon  \n",
       "0  38.732681 -120.811880  \n",
       "1  43.146905  -77.598189  "
      ]
     },
     "execution_count": 20,
     "metadata": {},
     "output_type": "execute_result"
    }
   ],
   "source": [
    "alyssa_u = pd.read_csv(\"./data/ShootMiami2_updated.csv\",sep=\";\",header=None,parse_dates=[0])\n",
    "alyssa_u.columns = [\"date\",\"_1\",\"_2\",\"_3\",\"year\",\"type_shooing\",\"number_victims\",\"school\",\"type_school\",\"city\",\"state\",\"urbanity\",\n",
    "                 \"relationship_with_attacker\",\"gender\",\"age\",\"suicide\",\"lat\",\"lon\"]\n",
    "alyssa_u = alyssa_u.loc[:,[\"date\",\"state\",\"school\",\"type_school\",\"death\",\"suicide\",\"number_victims\",\"lat\",\"lon\"]]\n",
    "alyssa_u[\"death\"] = (alyssa_u[\"number_victims\"]>0).astype(int)\n",
    "#alyssa[\"suicide\"] = alyssa[\"suicide\"].astype(int) \n",
    "alyssa_u[\"type_school\"] = alyssa_u[\"type_school\"].replace(d_type2school)\n",
    "alyssa_u.to_csv(\"./data/alyssa_u_formatted.tsv\",index=None,sep=\"\\t\")\n",
    "alyssa_u.head(2)"
   ]
  },
  {
   "cell_type": "code",
   "execution_count": 22,
   "metadata": {
    "collapsed": false
   },
   "outputs": [
    {
     "data": {
      "text/html": [
       "<div>\n",
       "<style>\n",
       "    .dataframe thead tr:only-child th {\n",
       "        text-align: right;\n",
       "    }\n",
       "\n",
       "    .dataframe thead th {\n",
       "        text-align: left;\n",
       "    }\n",
       "\n",
       "    .dataframe tbody tr th {\n",
       "        vertical-align: top;\n",
       "    }\n",
       "</style>\n",
       "<table border=\"1\" class=\"dataframe\">\n",
       "  <thead>\n",
       "    <tr style=\"text-align: right;\">\n",
       "      <th></th>\n",
       "      <th>lat</th>\n",
       "      <th>lon</th>\n",
       "      <th>number_victims</th>\n",
       "      <th>date</th>\n",
       "    </tr>\n",
       "  </thead>\n",
       "  <tbody>\n",
       "    <tr>\n",
       "      <th>256</th>\n",
       "      <td>36.857377</td>\n",
       "      <td>-88.401604</td>\n",
       "      <td>2</td>\n",
       "      <td>10011.0</td>\n",
       "    </tr>\n",
       "    <tr>\n",
       "      <th>257</th>\n",
       "      <td>26.310777</td>\n",
       "      <td>-80.253225</td>\n",
       "      <td>17</td>\n",
       "      <td>10033.0</td>\n",
       "    </tr>\n",
       "  </tbody>\n",
       "</table>\n",
       "</div>"
      ],
      "text/plain": [
       "           lat        lon  number_victims     date\n",
       "256  36.857377 -88.401604               2  10011.0\n",
       "257  26.310777 -80.253225              17  10033.0"
      ]
     },
     "execution_count": 22,
     "metadata": {},
     "output_type": "execute_result"
    }
   ],
   "source": [
    "#For self-excitation\n",
    "alyssa_u_se = alyssa_u[[\"lat\",\"lon\",\"number_victims\",\"date\"]]\n",
    "alyssa_u_se = alyssa_u_se.sort_values(by=\"date\")\n",
    "alyssa_u_se[\"date\"] = alyssa_u_se[\"date\"].diff().dt.days\n",
    "alyssa_u_se[\"date\"] = np.cumsum(alyssa_u_se[\"date\"].replace(np.NaN,0))\n",
    "alyssa_u_se.to_csv(\"./data/alyssa_u_self_excitation.tsv\",sep=\" \",index=None,header=None)\n",
    "alyssa_u_se.tail(2)"
   ]
  },
  {
   "cell_type": "markdown",
   "metadata": {},
   "source": [
    "# Data from USA Today on mass shootings (http://www.gannett-cdn.com/GDContent/mass-killings/index.html)"
   ]
  },
  {
   "cell_type": "code",
   "execution_count": 24,
   "metadata": {
    "collapsed": false
   },
   "outputs": [
    {
     "data": {
      "text/html": [
       "<div>\n",
       "<style>\n",
       "    .dataframe thead tr:only-child th {\n",
       "        text-align: right;\n",
       "    }\n",
       "\n",
       "    .dataframe thead th {\n",
       "        text-align: left;\n",
       "    }\n",
       "\n",
       "    .dataframe tbody tr th {\n",
       "        vertical-align: top;\n",
       "    }\n",
       "</style>\n",
       "<table border=\"1\" class=\"dataframe\">\n",
       "  <thead>\n",
       "    <tr style=\"text-align: right;\">\n",
       "      <th></th>\n",
       "      <th>date</th>\n",
       "      <th>city</th>\n",
       "      <th>state</th>\n",
       "      <th>type_attack</th>\n",
       "      <th>motives</th>\n",
       "      <th>number_victims</th>\n",
       "    </tr>\n",
       "  </thead>\n",
       "  <tbody>\n",
       "    <tr>\n",
       "      <th>1</th>\n",
       "      <td>2006-01-30</td>\n",
       "      <td>Goleta</td>\n",
       "      <td>Calif.</td>\n",
       "      <td>Shooting</td>\n",
       "      <td>Public Killing</td>\n",
       "      <td>7</td>\n",
       "    </tr>\n",
       "    <tr>\n",
       "      <th>2</th>\n",
       "      <td>2006-02-21</td>\n",
       "      <td>Mesa</td>\n",
       "      <td>Ariz.</td>\n",
       "      <td>Shooting</td>\n",
       "      <td>Other</td>\n",
       "      <td>5</td>\n",
       "    </tr>\n",
       "  </tbody>\n",
       "</table>\n",
       "</div>"
      ],
      "text/plain": [
       "        date    city   state type_attack         motives  number_victims\n",
       "1 2006-01-30  Goleta  Calif.    Shooting  Public Killing               7\n",
       "2 2006-02-21    Mesa   Ariz.    Shooting           Other               5"
      ]
     },
     "execution_count": 24,
     "metadata": {},
     "output_type": "execute_result"
    }
   ],
   "source": [
    "usatoday = pd.read_csv(\"./data/USAToday.csv\",sep=\"\\t\",header=None,parse_dates=[0])\n",
    "usatoday.columns = [\"date\",\"city\",\"state\",\"type_attack\",\"motives\",\"number_victims\"]\n",
    "usatoday = usatoday.loc[usatoday[\"type_attack\"].str.contains(\"hooting\")]\n",
    "usatoday.to_csv(\"./data/usatoday_formatted.tsv\",index=None,sep=\"\\t\")\n",
    "usatoday.head(2)"
   ]
  },
  {
   "cell_type": "code",
   "execution_count": 30,
   "metadata": {
    "collapsed": false
   },
   "outputs": [
    {
     "data": {
      "text/html": [
       "<div>\n",
       "<style>\n",
       "    .dataframe thead tr:only-child th {\n",
       "        text-align: right;\n",
       "    }\n",
       "\n",
       "    .dataframe thead th {\n",
       "        text-align: left;\n",
       "    }\n",
       "\n",
       "    .dataframe tbody tr th {\n",
       "        vertical-align: top;\n",
       "    }\n",
       "</style>\n",
       "<table border=\"1\" class=\"dataframe\">\n",
       "  <thead>\n",
       "    <tr style=\"text-align: right;\">\n",
       "      <th></th>\n",
       "      <th>date</th>\n",
       "      <th>city</th>\n",
       "      <th>state</th>\n",
       "      <th>type_attack</th>\n",
       "      <th>motives</th>\n",
       "      <th>number_victims</th>\n",
       "      <th>lat</th>\n",
       "      <th>lon</th>\n",
       "    </tr>\n",
       "  </thead>\n",
       "  <tbody>\n",
       "    <tr>\n",
       "      <th>0</th>\n",
       "      <td>2006-01-30</td>\n",
       "      <td>Goleta</td>\n",
       "      <td>Calif.</td>\n",
       "      <td>Shooting</td>\n",
       "      <td>Public Killing</td>\n",
       "      <td>7</td>\n",
       "      <td>34.435829</td>\n",
       "      <td>-119.827639</td>\n",
       "    </tr>\n",
       "    <tr>\n",
       "      <th>1</th>\n",
       "      <td>2006-02-21</td>\n",
       "      <td>Mesa</td>\n",
       "      <td>Ariz.</td>\n",
       "      <td>Shooting</td>\n",
       "      <td>Other</td>\n",
       "      <td>5</td>\n",
       "      <td>33.415184</td>\n",
       "      <td>-111.831472</td>\n",
       "    </tr>\n",
       "  </tbody>\n",
       "</table>\n",
       "</div>"
      ],
      "text/plain": [
       "        date    city   state type_attack         motives  number_victims  \\\n",
       "0 2006-01-30  Goleta  Calif.    Shooting  Public Killing               7   \n",
       "1 2006-02-21    Mesa   Ariz.    Shooting           Other               5   \n",
       "\n",
       "         lat         lon  \n",
       "0  34.435829 -119.827639  \n",
       "1  33.415184 -111.831472  "
      ]
     },
     "execution_count": 30,
     "metadata": {},
     "output_type": "execute_result"
    }
   ],
   "source": [
    "usatoday_u = pd.read_csv(\"./data/usatoday_u_formatted.tsv\",sep=\"\\t\",header=0, parse_dates=[\"date\"])\n",
    "usatoday_u.columns = [\"date\",\"city\",\"state\",\"type_attack\",\"motives\",\"number_victims\",\"lat\",\"lon\"]\n",
    "usatoday_u.head(2)"
   ]
  },
  {
   "cell_type": "code",
   "execution_count": 31,
   "metadata": {
    "collapsed": false
   },
   "outputs": [
    {
     "data": {
      "text/html": [
       "<div>\n",
       "<style>\n",
       "    .dataframe thead tr:only-child th {\n",
       "        text-align: right;\n",
       "    }\n",
       "\n",
       "    .dataframe thead th {\n",
       "        text-align: left;\n",
       "    }\n",
       "\n",
       "    .dataframe tbody tr th {\n",
       "        vertical-align: top;\n",
       "    }\n",
       "</style>\n",
       "<table border=\"1\" class=\"dataframe\">\n",
       "  <thead>\n",
       "    <tr style=\"text-align: right;\">\n",
       "      <th></th>\n",
       "      <th>lat</th>\n",
       "      <th>lon</th>\n",
       "      <th>number_victims</th>\n",
       "      <th>date</th>\n",
       "    </tr>\n",
       "  </thead>\n",
       "  <tbody>\n",
       "    <tr>\n",
       "      <th>211</th>\n",
       "      <td>33.322662</td>\n",
       "      <td>-80.413704</td>\n",
       "      <td>4</td>\n",
       "      <td>3453.0</td>\n",
       "    </tr>\n",
       "    <tr>\n",
       "      <th>212</th>\n",
       "      <td>35.045630</td>\n",
       "      <td>-85.309680</td>\n",
       "      <td>5</td>\n",
       "      <td>3454.0</td>\n",
       "    </tr>\n",
       "  </tbody>\n",
       "</table>\n",
       "</div>"
      ],
      "text/plain": [
       "           lat        lon  number_victims    date\n",
       "211  33.322662 -80.413704               4  3453.0\n",
       "212  35.045630 -85.309680               5  3454.0"
      ]
     },
     "execution_count": 31,
     "metadata": {},
     "output_type": "execute_result"
    }
   ],
   "source": [
    "#For self-excitation\n",
    "usatoday_se = usatoday_u[[\"lat\",\"lon\",\"number_victims\",\"date\"]]\n",
    "usatoday_se = usatoday_se.sort_values(by=\"date\")\n",
    "usatoday_se[\"date\"] = usatoday_se[\"date\"].diff().dt.days\n",
    "usatoday_se[\"date\"] = np.cumsum(usatoday_se[\"date\"].replace(np.NaN,0))\n",
    "usatoday_se.to_csv(\"./data/usatoday_self_excitation.tsv\",sep=\" \",index=None,header=None)\n",
    "usatoday_se.tail(2)"
   ]
  },
  {
   "cell_type": "markdown",
   "metadata": {
    "collapsed": true
   },
   "source": [
    "# Format tweet count"
   ]
  },
  {
   "cell_type": "code",
   "execution_count": 1,
   "metadata": {
    "collapsed": false
   },
   "outputs": [
    {
     "name": "stdout",
     "output_type": "stream",
     "text": [
      "3099166\r\n",
      "28\r\n",
      "10\r\n",
      "10\r\n",
      "1813\r\n"
     ]
    }
   ],
   "source": [
    "!cat \"./data/datav2/01.01.10.tgzSS.txt\""
   ]
  },
  {
   "cell_type": "code",
   "execution_count": 41,
   "metadata": {
    "collapsed": false
   },
   "outputs": [],
   "source": [
    "\n",
    "def format_tweets():\n",
    "    import os\n",
    "    import pylab as plt\n",
    "    import numpy as np\n",
    "    from datetime import datetime\n",
    "    import pandas as pd\n",
    "\n",
    "    listFiles = os.listdir(\"./data/datav2/\")\n",
    "    with open(\"./data/all_tweets_formatted.tsv\",\"w+\") as fout:\n",
    "        fout.write(\"date\\tshooting\\tschool_shooting\\tall\\tmass_shooting\\tmass_murder\\n\")\n",
    "    for fileT in listFiles:\n",
    "        if \".tgz\" in fileT:\n",
    "            name = fileT[:-10]\n",
    "            name = \"20\" + name[-2:] +\"-\"+ name[3:5] + \"-\" + name[0:2]\n",
    "        elif \".gz\" in fileT:\n",
    "            name = fileT[:-15]\n",
    "        else: \n",
    "            print(fileT)\n",
    "            continue\n",
    "            \n",
    "        date = datetime(year=int(name[0:4]),month=int(name[5:7]),day=int(name[-2:]))\n",
    "\n",
    "        \n",
    "        with open(\"./data/datav2/\"+fileT) as f, open(\"./data/all_tweets_formatted.tsv\",\"a+\") as fout:\n",
    "            lines = [float(_) for _ in f.readlines()]\n",
    "            fout.write(\"{}\\t{}\\t{}\\t{}\\t{}\\t{}\\n\".format(name,*lines))\n",
    "    \n"
   ]
  },
  {
   "cell_type": "code",
   "execution_count": 43,
   "metadata": {
    "collapsed": false
   },
   "outputs": [
    {
     "name": "stdout",
     "output_type": "stream",
     "text": [
      "tempFiles.txt\n"
     ]
    }
   ],
   "source": [
    "format_tweets()"
   ]
  }
 ],
 "metadata": {
  "anaconda-cloud": {},
  "kernelspec": {
   "display_name": "Python 3",
   "language": "python",
   "name": "python3"
  },
  "language_info": {
   "codemirror_mode": {
    "name": "ipython",
    "version": 3
   },
   "file_extension": ".py",
   "mimetype": "text/x-python",
   "name": "python",
   "nbconvert_exporter": "python",
   "pygments_lexer": "ipython3",
   "version": "3.5.2"
  }
 },
 "nbformat": 4,
 "nbformat_minor": 1
}
